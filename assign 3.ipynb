{
 "cells": [
  {
   "cell_type": "code",
   "execution_count": 36,
   "id": "b6b87aa8-225b-4def-9558-b56ccebda977",
   "metadata": {},
   "outputs": [
    {
     "name": "stdout",
     "output_type": "stream",
     "text": [
      "sum: 35\n"
     ]
    }
   ],
   "source": [
    "def adder(x,y,z):\n",
    "    print(\"sum:\",x+y+z)\n",
    "\n",
    "adder(10,12,13)"
   ]
  },
  {
   "cell_type": "code",
   "execution_count": 43,
   "id": "6dc02673-43c4-4a74-a501-0894ba98736f",
   "metadata": {},
   "outputs": [
    {
     "name": "stdout",
     "output_type": "stream",
     "text": [
      "sum: 3\n",
      "sum: 8\n",
      "sum: 4\n",
      "sum: 9\n",
      "sum: 15\n",
      "sum: 22\n",
      "sum: 1\n",
      "sum: 3\n",
      "sum: 6\n",
      "sum: 11\n",
      "sum: 17\n"
     ]
    }
   ],
   "source": [
    "def adder(*num):\n",
    "    sum = 0\n",
    "    for n in num:\n",
    "        sum = sum + n\n",
    "        print(\"sum:\",sum)\n",
    "adder(3,5)\n",
    "adder(4,5,6,7)\n",
    "adder(1,2,3,5,6)"
   ]
  },
  {
   "cell_type": "code",
   "execution_count": 49,
   "id": "17c27289-9df8-4c1e-b742-a21e3ce6622a",
   "metadata": {},
   "outputs": [],
   "source": [
    "l = [2, 4, 6, 8, 10, 12, 14, 16, 18, 20]"
   ]
  },
  {
   "cell_type": "code",
   "execution_count": 53,
   "id": "aeef3d83-b907-4f69-b46d-e41ef0137eaf",
   "metadata": {},
   "outputs": [
    {
     "data": {
      "text/plain": [
       "<list_iterator at 0x7f7a1816c2e0>"
      ]
     },
     "execution_count": 53,
     "metadata": {},
     "output_type": "execute_result"
    }
   ],
   "source": [
    "iter(l)"
   ]
  },
  {
   "cell_type": "code",
   "execution_count": 59,
   "id": "f04e52f3-e64f-493d-82a6-59f15c4bf991",
   "metadata": {},
   "outputs": [],
   "source": [
    "a = \"unnu\""
   ]
  },
  {
   "cell_type": "code",
   "execution_count": 70,
   "id": "2b84fb46-7966-4430-a7a9-3aa57dd2f39c",
   "metadata": {},
   "outputs": [
    {
     "data": {
      "text/plain": [
       "<str_iterator at 0x7f7a1816cd60>"
      ]
     },
     "execution_count": 70,
     "metadata": {},
     "output_type": "execute_result"
    }
   ],
   "source": [
    "iter(\"unnu\")"
   ]
  },
  {
   "cell_type": "code",
   "execution_count": null,
   "id": "cdb5e065-2dbf-44a4-9935-cc057afe1857",
   "metadata": {},
   "outputs": [],
   "source": [
    "# i am not able to do this assignment \n",
    "#going hard \n",
    "!@#$%^&*()_+"
   ]
  }
 ],
 "metadata": {
  "kernelspec": {
   "display_name": "Python 3 (ipykernel)",
   "language": "python",
   "name": "python3"
  },
  "language_info": {
   "codemirror_mode": {
    "name": "ipython",
    "version": 3
   },
   "file_extension": ".py",
   "mimetype": "text/x-python",
   "name": "python",
   "nbconvert_exporter": "python",
   "pygments_lexer": "ipython3",
   "version": "3.10.8"
  }
 },
 "nbformat": 4,
 "nbformat_minor": 5
}
